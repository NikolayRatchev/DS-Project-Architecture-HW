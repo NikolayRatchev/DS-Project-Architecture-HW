{
 "cells": [
  {
   "cell_type": "code",
   "execution_count": 1,
   "id": "57c1b0d2-e12c-4b07-8019-975b9cba2f5b",
   "metadata": {},
   "outputs": [],
   "source": [
    "import numpy as np\n",
    "import pandas as pd \n",
    "import matplotlib.pyplot as plt\n",
    "\n",
    "import re\n",
    "\n",
    "from sklearn.preprocessing import OneHotEncoder"
   ]
  },
  {
   "cell_type": "markdown",
   "id": "80da5650-385f-46d6-84db-c1ac7eb0acd0",
   "metadata": {},
   "source": [
    "# Problem 3. Data cleaning and preprocessing (1 point)\n",
    "This should be self-explanatory. In an appropriate notebook, explore different ways to clean and preprocess the dataset.\n",
    "\n",
    "This is still part of your research. That is, don't be afraid to _try out different approaches to the same problem_. E.g., if you have a lot of missing values, you may not know right away how to handle them. Experimenting with several approaches will give you a better indication what works well for your data and goals."
   ]
  },
  {
   "cell_type": "code",
   "execution_count": 2,
   "id": "b7ed2871-1534-4433-86be-67bad271ddb8",
   "metadata": {},
   "outputs": [],
   "source": [
    "asthma_df = pd.read_csv(\"../data/asthma_disease_data.csv\")"
   ]
  },
  {
   "cell_type": "markdown",
   "id": "d96fc9ef-8a4f-470f-bd81-2b3dc2e9dd5a",
   "metadata": {},
   "source": [
    "## Initial Cleaning"
   ]
  },
  {
   "cell_type": "markdown",
   "id": "121c5d76-8d47-435e-9af3-9a55f581b3a5",
   "metadata": {},
   "source": [
    "### Convert column names to `snake_case`"
   ]
  },
  {
   "cell_type": "code",
   "execution_count": 3,
   "id": "4e0d54a0-eb9c-46fd-9c98-7f76761156ff",
   "metadata": {},
   "outputs": [
    {
     "data": {
      "text/plain": [
       "Index(['PatientID', 'Age', 'Gender', 'Ethnicity', 'EducationLevel', 'BMI',\n",
       "       'Smoking', 'PhysicalActivity', 'DietQuality', 'SleepQuality',\n",
       "       'PollutionExposure', 'PollenExposure', 'DustExposure', 'PetAllergy',\n",
       "       'FamilyHistoryAsthma', 'HistoryOfAllergies', 'Eczema', 'HayFever',\n",
       "       'GastroesophagealReflux', 'LungFunctionFEV1', 'LungFunctionFVC',\n",
       "       'Wheezing', 'ShortnessOfBreath', 'ChestTightness', 'Coughing',\n",
       "       'NighttimeSymptoms', 'ExerciseInduced', 'Diagnosis', 'DoctorInCharge'],\n",
       "      dtype='object')"
      ]
     },
     "execution_count": 3,
     "metadata": {},
     "output_type": "execute_result"
    }
   ],
   "source": [
    "asthma_df.columns"
   ]
  },
  {
   "cell_type": "code",
   "execution_count": 4,
   "id": "cfcc9b65-ed08-43bd-90ef-05b1565c26d8",
   "metadata": {},
   "outputs": [],
   "source": [
    "def to_snake_case(name):\n",
    "    # Add underscore before uppercase letters (except the first), then lowercase\n",
    "    s1 = re.sub('(.)([A-Z][a-z]+)', r'\\1_\\2', name)\n",
    "    snake = re.sub('([a-z0-9])([A-Z])', r'\\1_\\2', s1).lower()\n",
    "    return snake"
   ]
  },
  {
   "cell_type": "code",
   "execution_count": 5,
   "id": "446ddac0-5f60-41b0-8192-c61719adff54",
   "metadata": {},
   "outputs": [],
   "source": [
    "asthma_df.columns = [to_snake_case(c) for c in asthma_df.columns]"
   ]
  },
  {
   "cell_type": "code",
   "execution_count": 6,
   "id": "de285881-4a2b-4444-8795-fa4d033ece79",
   "metadata": {},
   "outputs": [
    {
     "data": {
      "text/plain": [
       "Index(['patient_id', 'age', 'gender', 'ethnicity', 'education_level', 'bmi',\n",
       "       'smoking', 'physical_activity', 'diet_quality', 'sleep_quality',\n",
       "       'pollution_exposure', 'pollen_exposure', 'dust_exposure', 'pet_allergy',\n",
       "       'family_history_asthma', 'history_of_allergies', 'eczema', 'hay_fever',\n",
       "       'gastroesophageal_reflux', 'lung_function_fev1', 'lung_function_fvc',\n",
       "       'wheezing', 'shortness_of_breath', 'chest_tightness', 'coughing',\n",
       "       'nighttime_symptoms', 'exercise_induced', 'diagnosis',\n",
       "       'doctor_in_charge'],\n",
       "      dtype='object')"
      ]
     },
     "execution_count": 6,
     "metadata": {},
     "output_type": "execute_result"
    }
   ],
   "source": [
    "asthma_df.columns"
   ]
  },
  {
   "cell_type": "markdown",
   "id": "463f1b90-418a-48ae-a088-d6deaaf361e4",
   "metadata": {},
   "source": [
    "### Delete unnecessary column\n",
    "\n",
    "> **Confidential Information**\n",
    "> \n",
    "> * DoctorInCharge: This column contains confidential information about the doctor in charge, with \"Dr_Confid\" as the value for all patients.\n",
    "\n",
    "Since all the values of this variable are the same, I don't need it. "
   ]
  },
  {
   "cell_type": "code",
   "execution_count": 7,
   "id": "468f432c-ccd5-485b-89c7-d4bb6e5bd13f",
   "metadata": {},
   "outputs": [],
   "source": [
    "asthma_df = asthma_df.drop(columns = \"doctor_in_charge\")"
   ]
  },
  {
   "cell_type": "markdown",
   "id": "58d84943-ef77-46cc-befa-8b305dc26b91",
   "metadata": {},
   "source": [
    "## Create a separate dataframe for visualization\n",
    "\n",
    "For the purpose of the logistic regression I keep the original binary variables as 1/0. For the puprpose of visualization, I create a copy where I clean the categorical variables."
   ]
  },
  {
   "cell_type": "code",
   "execution_count": 8,
   "id": "bdf68a6d-5368-4ddf-9c9b-5a923fa92cb4",
   "metadata": {},
   "outputs": [],
   "source": [
    "asthma_vis = asthma_df.copy()"
   ]
  },
  {
   "cell_type": "markdown",
   "id": "9a491263-b02b-46fc-ab2b-d820118a2d1d",
   "metadata": {},
   "source": [
    "### Transform categorical variables \n",
    "\n",
    "Initial Exploration (Problem 1) showed that many variables that should be categories are instead of type `int`. Most of them are binary but there are also variables that include more categories, like `ethnicity`. Let's convert them to categorical. Descriptions of variable mappings are found at the [data page](https://www.kaggle.com/datasets/rabieelkharoua/asthma-disease-dataset) \n",
    "\n",
    "I'll start with binary variables and follow-up with variables with 3+ categories. "
   ]
  },
  {
   "cell_type": "markdown",
   "id": "f240af47-a2ec-4099-b574-d6ab5f93e139",
   "metadata": {},
   "source": [
    "#### Gender\n",
    "\n",
    "From description:\n",
    "\n",
    "> **Gender**: Gender of the patients, where 0 represents Male and 1 represents Female.\n"
   ]
  },
  {
   "cell_type": "code",
   "execution_count": 9,
   "id": "35eed7aa-6903-4aa2-8638-16f978d1d408",
   "metadata": {},
   "outputs": [],
   "source": [
    "asthma_vis[\"gender\"] = asthma_vis[\"gender\"].map({0: \"male\", 1: \"female\"}).astype(\"category\")"
   ]
  },
  {
   "cell_type": "markdown",
   "id": "45d8b36b-fd12-40f6-a2f0-ea2132fa2cf9",
   "metadata": {},
   "source": [
    "#### Binary Variables with Yes/No valuesabs\n",
    "\n",
    "> **Lifestyle Factors**\n",
    "> Smoking: Smoking status, where 0 indicates No and 1 indicates Yes.\n",
    ">\n",
    "> **Environmental and Allergy Factors**\n",
    "> * PetAllergy: Pet allergy status, where 0 indicates No and 1 indicates Yes.\n",
    ">   \n",
    "> **Medical History Variables**\n",
    "> * FamilyHistoryAsthma: Family history of asthma, where 0 indicates No and 1 indicates Yes.\n",
    "> * HistoryOfAllergies: History of allergies, where 0 indicates No and 1 indicates Yes.\n",
    "> * Eczema: Presence of eczema, where 0 indicates No and 1 indicates Yes.\n",
    "> * HayFever: Presence of hay fever, where 0 indicates No and 1 indicates Yes.\n",
    "> * GastroesophagealReflux: Presence of gastroesophageal reflux, where 0 indicates No and 1 indicates Yes.\n",
    ">  \n",
    "> **Symptoms**\n",
    "> * Wheezing: Presence of wheezing, where 0 indicates No and 1 indicates Yes.\n",
    "> * ShortnessOfBreath: Presence of shortness of breath, where 0 indicates No and 1 indicates Yes.\n",
    "> * ChestTightness: Presence of chest tightness, where 0 indicates No and 1 indicates Yes.\n",
    "> * Coughing: Presence of coughing, where 0 indicates No and 1 indicates Yes.\n",
    "> * NighttimeSymptoms: Presence of nighttime symptoms, where 0 indicates No and 1 indicates Yes.\n",
    "> * ExerciseInduced: Presence of symptoms induced by exercise, where 0 indicates No and 1 indicates Yes.\n",
    "> \n",
    "> **Diagnosis Information**\n",
    "> * Diagnosis: Diagnosis status for Asthma, where 0 indicates No and 1 indicates Yes.\n",
    "\n",
    "I'll convert all these to category, in one shot, with the exception of `diagnosis`, which is my outcome variable and is better kept as is. "
   ]
  },
  {
   "cell_type": "code",
   "execution_count": 10,
   "id": "d55a5a24-89a4-4973-b687-fa2a5fc43e18",
   "metadata": {},
   "outputs": [],
   "source": [
    "binary_cols = [\n",
    "    'smoking', 'pet_allergy', 'family_history_asthma', 'history_of_allergies', 'eczema', 'hay_fever',\n",
    "    'gastroesophageal_reflux', 'wheezing', 'shortness_of_breath', 'chest_tightness', 'coughing',\n",
    "    'nighttime_symptoms', 'exercise_induced'\n",
    "]"
   ]
  },
  {
   "cell_type": "code",
   "execution_count": 11,
   "id": "a3e61b3d-5e38-4bdb-a688-c9463e102932",
   "metadata": {},
   "outputs": [],
   "source": [
    "asthma_vis[binary_cols] = asthma_vis[binary_cols].apply(lambda x: x.map({0: 'no', 1: 'yes'}).astype('category'))"
   ]
  },
  {
   "cell_type": "code",
   "execution_count": 12,
   "id": "fce20688-052f-432a-9102-78fe744ac098",
   "metadata": {},
   "outputs": [
    {
     "data": {
      "text/plain": [
       "patient_id                    int64\n",
       "age                           int64\n",
       "gender                     category\n",
       "ethnicity                     int64\n",
       "education_level               int64\n",
       "bmi                         float64\n",
       "smoking                    category\n",
       "physical_activity           float64\n",
       "diet_quality                float64\n",
       "sleep_quality               float64\n",
       "pollution_exposure          float64\n",
       "pollen_exposure             float64\n",
       "dust_exposure               float64\n",
       "pet_allergy                category\n",
       "family_history_asthma      category\n",
       "history_of_allergies       category\n",
       "eczema                     category\n",
       "hay_fever                  category\n",
       "gastroesophageal_reflux    category\n",
       "lung_function_fev1          float64\n",
       "lung_function_fvc           float64\n",
       "wheezing                   category\n",
       "shortness_of_breath        category\n",
       "chest_tightness            category\n",
       "coughing                   category\n",
       "nighttime_symptoms         category\n",
       "exercise_induced           category\n",
       "diagnosis                     int64\n",
       "dtype: object"
      ]
     },
     "execution_count": 12,
     "metadata": {},
     "output_type": "execute_result"
    }
   ],
   "source": [
    "asthma_vis.dtypes"
   ]
  },
  {
   "cell_type": "markdown",
   "id": "3e43f15e-d0a5-4941-8575-22ad09fde13d",
   "metadata": {},
   "source": [
    "#### Ethnicity\n",
    "\n",
    "> **Ethnicity**: The ethnicity of the patients, coded as follows:\n",
    "> * 0: Caucasian\n",
    "> * 1: African American\n",
    "> * 2: Asian\n",
    "> * 3: Other"
   ]
  },
  {
   "cell_type": "code",
   "execution_count": 13,
   "id": "ddfe0613-2921-465f-8d00-40442f2e8e1d",
   "metadata": {},
   "outputs": [],
   "source": [
    "asthma_vis['ethnicity'] = asthma_vis['ethnicity'].map({\n",
    "    0: 'caucasian',\n",
    "    1: 'african american',\n",
    "    2: 'asian',\n",
    "    3: 'other'\n",
    "}).astype('category')"
   ]
  },
  {
   "cell_type": "markdown",
   "id": "59f3dd33-e65e-4f16-bd65-80cd662bf7e0",
   "metadata": {},
   "source": [
    "#### Education Level \n",
    "\n",
    "> **Education Level**: The education level of the patients, coded as follows:\n",
    "> * 0: None\n",
    "> * 1: High School\n",
    "> * 2: Bachelor's\n",
    "> * 3: Higher\n",
    "\n",
    "I'm not sure here because this is an ordered varaible."
   ]
  },
  {
   "cell_type": "code",
   "execution_count": 14,
   "id": "73093de9-b1be-471c-8222-d52ecbe81a97",
   "metadata": {},
   "outputs": [],
   "source": [
    "asthma_vis['education_level'] = asthma_vis['education_level'].map({\n",
    "    0: 'none',\n",
    "    1: 'high school',\n",
    "    2: 'bachelors',\n",
    "    3: 'higher'\n",
    "}).astype('category')"
   ]
  },
  {
   "cell_type": "markdown",
   "id": "bca0a297-a01c-4421-a32f-e3777b3a089f",
   "metadata": {},
   "source": [
    "#### Patient ID\n",
    "\n",
    "convert to object "
   ]
  },
  {
   "cell_type": "code",
   "execution_count": 15,
   "id": "d5f6e2e2-28e6-4763-9a27-659e278ad493",
   "metadata": {},
   "outputs": [],
   "source": [
    "asthma_vis[\"patient_id\"] = asthma_vis[\"patient_id\"].astype('object')"
   ]
  },
  {
   "cell_type": "code",
   "execution_count": 16,
   "id": "2e2fba54-b07d-4f0b-925a-029c96bfbedf",
   "metadata": {},
   "outputs": [
    {
     "data": {
      "text/plain": [
       "patient_id                   object\n",
       "age                           int64\n",
       "gender                     category\n",
       "ethnicity                  category\n",
       "education_level            category\n",
       "bmi                         float64\n",
       "smoking                    category\n",
       "physical_activity           float64\n",
       "diet_quality                float64\n",
       "sleep_quality               float64\n",
       "pollution_exposure          float64\n",
       "pollen_exposure             float64\n",
       "dust_exposure               float64\n",
       "pet_allergy                category\n",
       "family_history_asthma      category\n",
       "history_of_allergies       category\n",
       "eczema                     category\n",
       "hay_fever                  category\n",
       "gastroesophageal_reflux    category\n",
       "lung_function_fev1          float64\n",
       "lung_function_fvc           float64\n",
       "wheezing                   category\n",
       "shortness_of_breath        category\n",
       "chest_tightness            category\n",
       "coughing                   category\n",
       "nighttime_symptoms         category\n",
       "exercise_induced           category\n",
       "diagnosis                     int64\n",
       "dtype: object"
      ]
     },
     "execution_count": 16,
     "metadata": {},
     "output_type": "execute_result"
    }
   ],
   "source": [
    "asthma_vis.dtypes"
   ]
  },
  {
   "cell_type": "markdown",
   "id": "eb6babd5-cb18-4fac-aa45-a62858889567",
   "metadata": {},
   "source": [
    "### Save to csv"
   ]
  },
  {
   "cell_type": "code",
   "execution_count": 17,
   "id": "adf130d9-5af4-4af5-b63f-24a76bd70494",
   "metadata": {},
   "outputs": [],
   "source": [
    "asthma_vis.to_csv(\"../data/asthma_disease_data_vis.csv\", index=None)"
   ]
  },
  {
   "cell_type": "code",
   "execution_count": null,
   "id": "58b469a0-5b62-4381-9bbb-39bbff95149c",
   "metadata": {},
   "outputs": [],
   "source": []
  },
  {
   "cell_type": "markdown",
   "id": "69bbfff4-fcf9-40b8-a355-1d0fb5a2308e",
   "metadata": {},
   "source": [
    "## Analysis Dataframe"
   ]
  },
  {
   "cell_type": "markdown",
   "id": "364d2ba0-0876-4b50-b3f1-32a1c931ed1b",
   "metadata": {},
   "source": [
    "### Remove `patient_id`, I think I don't need it for the analysis."
   ]
  },
  {
   "cell_type": "code",
   "execution_count": 18,
   "id": "5fe16ce5-6dc8-4fba-b81b-2379adca1b7c",
   "metadata": {},
   "outputs": [],
   "source": [
    "asthma_df = asthma_df.drop(columns = \"patient_id\")"
   ]
  },
  {
   "cell_type": "markdown",
   "id": "3c7bdbab-dcba-4563-8c28-a8355a54b94a",
   "metadata": {},
   "source": [
    "### Convert multi-categorical variables to categories"
   ]
  },
  {
   "cell_type": "code",
   "execution_count": 19,
   "id": "830219f7-7197-4013-87d8-bffba49247ae",
   "metadata": {},
   "outputs": [],
   "source": [
    "asthma_df['ethnicity'] = asthma_df['ethnicity'].map({\n",
    "    0: 'caucasian',\n",
    "    1: 'african american',\n",
    "    2: 'asian',\n",
    "    3: 'other'\n",
    "}).astype('category')"
   ]
  },
  {
   "cell_type": "code",
   "execution_count": 20,
   "id": "f94c4e09-be98-4fb6-baa6-0c0cbb38856f",
   "metadata": {},
   "outputs": [],
   "source": [
    "asthma_df['education_level'] = asthma_df['education_level'].map({\n",
    "    0: 'none',\n",
    "    1: 'high school',\n",
    "    2: 'bachelors',\n",
    "    3: 'higher'\n",
    "}).astype('category')"
   ]
  },
  {
   "cell_type": "markdown",
   "id": "bc0875cc-b011-4bfd-9034-89575ed3b122",
   "metadata": {},
   "source": [
    "### Do one-hot encoding of `ethnicity` and `education_level`"
   ]
  },
  {
   "cell_type": "code",
   "execution_count": 21,
   "id": "16516aee-6a32-406d-8535-45010e618a24",
   "metadata": {},
   "outputs": [],
   "source": [
    "asthma_df = pd.get_dummies(\n",
    "    asthma_df, columns=['ethnicity', 'education_level'], \n",
    "    drop_first = True, \n",
    "    dtype = int\n",
    ")"
   ]
  },
  {
   "cell_type": "code",
   "execution_count": 22,
   "id": "c3f70665-a9a7-4d6c-992d-48d9fada0a2b",
   "metadata": {},
   "outputs": [
    {
     "data": {
      "text/html": [
       "<div>\n",
       "<style scoped>\n",
       "    .dataframe tbody tr th:only-of-type {\n",
       "        vertical-align: middle;\n",
       "    }\n",
       "\n",
       "    .dataframe tbody tr th {\n",
       "        vertical-align: top;\n",
       "    }\n",
       "\n",
       "    .dataframe thead th {\n",
       "        text-align: right;\n",
       "    }\n",
       "</style>\n",
       "<table border=\"1\" class=\"dataframe\">\n",
       "  <thead>\n",
       "    <tr style=\"text-align: right;\">\n",
       "      <th></th>\n",
       "      <th>age</th>\n",
       "      <th>gender</th>\n",
       "      <th>bmi</th>\n",
       "      <th>smoking</th>\n",
       "      <th>physical_activity</th>\n",
       "      <th>diet_quality</th>\n",
       "      <th>sleep_quality</th>\n",
       "      <th>pollution_exposure</th>\n",
       "      <th>pollen_exposure</th>\n",
       "      <th>dust_exposure</th>\n",
       "      <th>...</th>\n",
       "      <th>coughing</th>\n",
       "      <th>nighttime_symptoms</th>\n",
       "      <th>exercise_induced</th>\n",
       "      <th>diagnosis</th>\n",
       "      <th>ethnicity_asian</th>\n",
       "      <th>ethnicity_caucasian</th>\n",
       "      <th>ethnicity_other</th>\n",
       "      <th>education_level_high school</th>\n",
       "      <th>education_level_higher</th>\n",
       "      <th>education_level_none</th>\n",
       "    </tr>\n",
       "  </thead>\n",
       "  <tbody>\n",
       "    <tr>\n",
       "      <th>0</th>\n",
       "      <td>63</td>\n",
       "      <td>0</td>\n",
       "      <td>15.848744</td>\n",
       "      <td>0</td>\n",
       "      <td>0.894448</td>\n",
       "      <td>5.488696</td>\n",
       "      <td>8.701003</td>\n",
       "      <td>7.388481</td>\n",
       "      <td>2.855578</td>\n",
       "      <td>0.974339</td>\n",
       "      <td>...</td>\n",
       "      <td>0</td>\n",
       "      <td>0</td>\n",
       "      <td>1</td>\n",
       "      <td>0</td>\n",
       "      <td>0</td>\n",
       "      <td>0</td>\n",
       "      <td>0</td>\n",
       "      <td>0</td>\n",
       "      <td>0</td>\n",
       "      <td>1</td>\n",
       "    </tr>\n",
       "    <tr>\n",
       "      <th>1</th>\n",
       "      <td>26</td>\n",
       "      <td>1</td>\n",
       "      <td>22.757042</td>\n",
       "      <td>0</td>\n",
       "      <td>5.897329</td>\n",
       "      <td>6.341014</td>\n",
       "      <td>5.153966</td>\n",
       "      <td>1.969838</td>\n",
       "      <td>7.457665</td>\n",
       "      <td>6.584631</td>\n",
       "      <td>...</td>\n",
       "      <td>1</td>\n",
       "      <td>1</td>\n",
       "      <td>1</td>\n",
       "      <td>0</td>\n",
       "      <td>1</td>\n",
       "      <td>0</td>\n",
       "      <td>0</td>\n",
       "      <td>0</td>\n",
       "      <td>0</td>\n",
       "      <td>0</td>\n",
       "    </tr>\n",
       "    <tr>\n",
       "      <th>2</th>\n",
       "      <td>57</td>\n",
       "      <td>0</td>\n",
       "      <td>18.395396</td>\n",
       "      <td>0</td>\n",
       "      <td>6.739367</td>\n",
       "      <td>9.196237</td>\n",
       "      <td>6.840647</td>\n",
       "      <td>1.460593</td>\n",
       "      <td>1.448189</td>\n",
       "      <td>5.445799</td>\n",
       "      <td>...</td>\n",
       "      <td>0</td>\n",
       "      <td>1</td>\n",
       "      <td>1</td>\n",
       "      <td>0</td>\n",
       "      <td>1</td>\n",
       "      <td>0</td>\n",
       "      <td>0</td>\n",
       "      <td>1</td>\n",
       "      <td>0</td>\n",
       "      <td>0</td>\n",
       "    </tr>\n",
       "    <tr>\n",
       "      <th>3</th>\n",
       "      <td>40</td>\n",
       "      <td>1</td>\n",
       "      <td>38.515278</td>\n",
       "      <td>0</td>\n",
       "      <td>1.404503</td>\n",
       "      <td>5.826532</td>\n",
       "      <td>4.253036</td>\n",
       "      <td>0.581905</td>\n",
       "      <td>7.571845</td>\n",
       "      <td>3.965316</td>\n",
       "      <td>...</td>\n",
       "      <td>1</td>\n",
       "      <td>1</td>\n",
       "      <td>0</td>\n",
       "      <td>0</td>\n",
       "      <td>1</td>\n",
       "      <td>0</td>\n",
       "      <td>0</td>\n",
       "      <td>1</td>\n",
       "      <td>0</td>\n",
       "      <td>0</td>\n",
       "    </tr>\n",
       "    <tr>\n",
       "      <th>4</th>\n",
       "      <td>61</td>\n",
       "      <td>0</td>\n",
       "      <td>19.283802</td>\n",
       "      <td>0</td>\n",
       "      <td>4.604493</td>\n",
       "      <td>3.127048</td>\n",
       "      <td>9.625799</td>\n",
       "      <td>0.980875</td>\n",
       "      <td>3.049807</td>\n",
       "      <td>8.260605</td>\n",
       "      <td>...</td>\n",
       "      <td>0</td>\n",
       "      <td>0</td>\n",
       "      <td>1</td>\n",
       "      <td>0</td>\n",
       "      <td>0</td>\n",
       "      <td>1</td>\n",
       "      <td>0</td>\n",
       "      <td>0</td>\n",
       "      <td>1</td>\n",
       "      <td>0</td>\n",
       "    </tr>\n",
       "    <tr>\n",
       "      <th>...</th>\n",
       "      <td>...</td>\n",
       "      <td>...</td>\n",
       "      <td>...</td>\n",
       "      <td>...</td>\n",
       "      <td>...</td>\n",
       "      <td>...</td>\n",
       "      <td>...</td>\n",
       "      <td>...</td>\n",
       "      <td>...</td>\n",
       "      <td>...</td>\n",
       "      <td>...</td>\n",
       "      <td>...</td>\n",
       "      <td>...</td>\n",
       "      <td>...</td>\n",
       "      <td>...</td>\n",
       "      <td>...</td>\n",
       "      <td>...</td>\n",
       "      <td>...</td>\n",
       "      <td>...</td>\n",
       "      <td>...</td>\n",
       "      <td>...</td>\n",
       "    </tr>\n",
       "    <tr>\n",
       "      <th>2387</th>\n",
       "      <td>43</td>\n",
       "      <td>1</td>\n",
       "      <td>29.059613</td>\n",
       "      <td>0</td>\n",
       "      <td>3.019854</td>\n",
       "      <td>6.119637</td>\n",
       "      <td>8.300960</td>\n",
       "      <td>2.483829</td>\n",
       "      <td>7.314582</td>\n",
       "      <td>3.425445</td>\n",
       "      <td>...</td>\n",
       "      <td>0</td>\n",
       "      <td>0</td>\n",
       "      <td>1</td>\n",
       "      <td>1</td>\n",
       "      <td>0</td>\n",
       "      <td>1</td>\n",
       "      <td>0</td>\n",
       "      <td>0</td>\n",
       "      <td>0</td>\n",
       "      <td>0</td>\n",
       "    </tr>\n",
       "    <tr>\n",
       "      <th>2388</th>\n",
       "      <td>18</td>\n",
       "      <td>1</td>\n",
       "      <td>20.740850</td>\n",
       "      <td>0</td>\n",
       "      <td>5.805180</td>\n",
       "      <td>4.386992</td>\n",
       "      <td>7.731192</td>\n",
       "      <td>7.733983</td>\n",
       "      <td>2.279073</td>\n",
       "      <td>6.467701</td>\n",
       "      <td>...</td>\n",
       "      <td>1</td>\n",
       "      <td>1</td>\n",
       "      <td>0</td>\n",
       "      <td>1</td>\n",
       "      <td>0</td>\n",
       "      <td>1</td>\n",
       "      <td>0</td>\n",
       "      <td>1</td>\n",
       "      <td>0</td>\n",
       "      <td>0</td>\n",
       "    </tr>\n",
       "    <tr>\n",
       "      <th>2389</th>\n",
       "      <td>54</td>\n",
       "      <td>0</td>\n",
       "      <td>37.079560</td>\n",
       "      <td>0</td>\n",
       "      <td>4.735169</td>\n",
       "      <td>8.214064</td>\n",
       "      <td>7.483521</td>\n",
       "      <td>2.794847</td>\n",
       "      <td>3.055139</td>\n",
       "      <td>9.484013</td>\n",
       "      <td>...</td>\n",
       "      <td>1</td>\n",
       "      <td>0</td>\n",
       "      <td>1</td>\n",
       "      <td>1</td>\n",
       "      <td>0</td>\n",
       "      <td>0</td>\n",
       "      <td>1</td>\n",
       "      <td>0</td>\n",
       "      <td>0</td>\n",
       "      <td>0</td>\n",
       "    </tr>\n",
       "    <tr>\n",
       "      <th>2390</th>\n",
       "      <td>46</td>\n",
       "      <td>1</td>\n",
       "      <td>23.444712</td>\n",
       "      <td>0</td>\n",
       "      <td>9.672637</td>\n",
       "      <td>7.362861</td>\n",
       "      <td>6.717272</td>\n",
       "      <td>9.448862</td>\n",
       "      <td>7.712584</td>\n",
       "      <td>5.051405</td>\n",
       "      <td>...</td>\n",
       "      <td>0</td>\n",
       "      <td>1</td>\n",
       "      <td>1</td>\n",
       "      <td>0</td>\n",
       "      <td>0</td>\n",
       "      <td>1</td>\n",
       "      <td>0</td>\n",
       "      <td>0</td>\n",
       "      <td>0</td>\n",
       "      <td>0</td>\n",
       "    </tr>\n",
       "    <tr>\n",
       "      <th>2391</th>\n",
       "      <td>26</td>\n",
       "      <td>1</td>\n",
       "      <td>28.123021</td>\n",
       "      <td>1</td>\n",
       "      <td>1.613138</td>\n",
       "      <td>7.412878</td>\n",
       "      <td>8.512253</td>\n",
       "      <td>3.231709</td>\n",
       "      <td>3.874028</td>\n",
       "      <td>5.064317</td>\n",
       "      <td>...</td>\n",
       "      <td>0</td>\n",
       "      <td>1</td>\n",
       "      <td>0</td>\n",
       "      <td>0</td>\n",
       "      <td>0</td>\n",
       "      <td>1</td>\n",
       "      <td>0</td>\n",
       "      <td>0</td>\n",
       "      <td>0</td>\n",
       "      <td>1</td>\n",
       "    </tr>\n",
       "  </tbody>\n",
       "</table>\n",
       "<p>2392 rows × 31 columns</p>\n",
       "</div>"
      ],
      "text/plain": [
       "      age  gender        bmi  smoking  physical_activity  diet_quality  \\\n",
       "0      63       0  15.848744        0           0.894448      5.488696   \n",
       "1      26       1  22.757042        0           5.897329      6.341014   \n",
       "2      57       0  18.395396        0           6.739367      9.196237   \n",
       "3      40       1  38.515278        0           1.404503      5.826532   \n",
       "4      61       0  19.283802        0           4.604493      3.127048   \n",
       "...   ...     ...        ...      ...                ...           ...   \n",
       "2387   43       1  29.059613        0           3.019854      6.119637   \n",
       "2388   18       1  20.740850        0           5.805180      4.386992   \n",
       "2389   54       0  37.079560        0           4.735169      8.214064   \n",
       "2390   46       1  23.444712        0           9.672637      7.362861   \n",
       "2391   26       1  28.123021        1           1.613138      7.412878   \n",
       "\n",
       "      sleep_quality  pollution_exposure  pollen_exposure  dust_exposure  ...  \\\n",
       "0          8.701003            7.388481         2.855578       0.974339  ...   \n",
       "1          5.153966            1.969838         7.457665       6.584631  ...   \n",
       "2          6.840647            1.460593         1.448189       5.445799  ...   \n",
       "3          4.253036            0.581905         7.571845       3.965316  ...   \n",
       "4          9.625799            0.980875         3.049807       8.260605  ...   \n",
       "...             ...                 ...              ...            ...  ...   \n",
       "2387       8.300960            2.483829         7.314582       3.425445  ...   \n",
       "2388       7.731192            7.733983         2.279073       6.467701  ...   \n",
       "2389       7.483521            2.794847         3.055139       9.484013  ...   \n",
       "2390       6.717272            9.448862         7.712584       5.051405  ...   \n",
       "2391       8.512253            3.231709         3.874028       5.064317  ...   \n",
       "\n",
       "      coughing  nighttime_symptoms  exercise_induced  diagnosis  \\\n",
       "0            0                   0                 1          0   \n",
       "1            1                   1                 1          0   \n",
       "2            0                   1                 1          0   \n",
       "3            1                   1                 0          0   \n",
       "4            0                   0                 1          0   \n",
       "...        ...                 ...               ...        ...   \n",
       "2387         0                   0                 1          1   \n",
       "2388         1                   1                 0          1   \n",
       "2389         1                   0                 1          1   \n",
       "2390         0                   1                 1          0   \n",
       "2391         0                   1                 0          0   \n",
       "\n",
       "      ethnicity_asian  ethnicity_caucasian  ethnicity_other  \\\n",
       "0                   0                    0                0   \n",
       "1                   1                    0                0   \n",
       "2                   1                    0                0   \n",
       "3                   1                    0                0   \n",
       "4                   0                    1                0   \n",
       "...               ...                  ...              ...   \n",
       "2387                0                    1                0   \n",
       "2388                0                    1                0   \n",
       "2389                0                    0                1   \n",
       "2390                0                    1                0   \n",
       "2391                0                    1                0   \n",
       "\n",
       "      education_level_high school  education_level_higher  \\\n",
       "0                               0                       0   \n",
       "1                               0                       0   \n",
       "2                               1                       0   \n",
       "3                               1                       0   \n",
       "4                               0                       1   \n",
       "...                           ...                     ...   \n",
       "2387                            0                       0   \n",
       "2388                            1                       0   \n",
       "2389                            0                       0   \n",
       "2390                            0                       0   \n",
       "2391                            0                       0   \n",
       "\n",
       "      education_level_none  \n",
       "0                        1  \n",
       "1                        0  \n",
       "2                        0  \n",
       "3                        0  \n",
       "4                        0  \n",
       "...                    ...  \n",
       "2387                     0  \n",
       "2388                     0  \n",
       "2389                     0  \n",
       "2390                     0  \n",
       "2391                     1  \n",
       "\n",
       "[2392 rows x 31 columns]"
      ]
     },
     "execution_count": 22,
     "metadata": {},
     "output_type": "execute_result"
    }
   ],
   "source": [
    "asthma_df"
   ]
  },
  {
   "cell_type": "markdown",
   "id": "c0e28b42-7ded-4ecf-8a53-96e51fff93ae",
   "metadata": {},
   "source": [
    "### Save to csv"
   ]
  },
  {
   "cell_type": "code",
   "execution_count": 23,
   "id": "9b4c6538-b64c-413e-ad62-75642da47af7",
   "metadata": {},
   "outputs": [],
   "source": [
    "asthma_df.to_csv(\"../data/asthma_disease_data_analysis.csv\", index=None)"
   ]
  }
 ],
 "metadata": {
  "kernelspec": {
   "display_name": "Python 3 (ipykernel)",
   "language": "python",
   "name": "python3"
  },
  "language_info": {
   "codemirror_mode": {
    "name": "ipython",
    "version": 3
   },
   "file_extension": ".py",
   "mimetype": "text/x-python",
   "name": "python",
   "nbconvert_exporter": "python",
   "pygments_lexer": "ipython3",
   "version": "3.12.3"
  }
 },
 "nbformat": 4,
 "nbformat_minor": 5
}
